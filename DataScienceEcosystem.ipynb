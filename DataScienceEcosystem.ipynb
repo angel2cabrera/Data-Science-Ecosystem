{
 "cells": [
  {
   "cell_type": "markdown",
   "id": "ba00a6ba-0b0c-481e-a6ab-b524df9cf797",
   "metadata": {},
   "source": [
    "# Data Science Tools and Ecosystem"
   ]
  },
  {
   "cell_type": "markdown",
   "id": "07285064-eecd-407f-a495-94ae973a18d4",
   "metadata": {},
   "source": [
    "In this notebook, Data Science Tools and Ecosystem are summarized."
   ]
  },
  {
   "cell_type": "markdown",
   "id": "87c5f7ac-ea27-45ef-a358-db47072fa0cd",
   "metadata": {},
   "source": [
    "Some of the popular languages that Data Scientists use are:\n",
    "- R\n",
    "- Python\n",
    "- Julia"
   ]
  },
  {
   "cell_type": "markdown",
   "id": "29edf899-547e-4752-97fa-26753b4372a1",
   "metadata": {},
   "source": [
    "Some of the commonly used libraries used by Data Scientists include:\n",
    "1. Pandas\n",
    "2. NumPy\n",
    "3. Scikit-learn"
   ]
  },
  {
   "cell_type": "markdown",
   "id": "102c5b73-df34-46a8-a709-e9d5bada2b98",
   "metadata": {},
   "source": [
    "| Data Science Tools          |\n",
    "|-----------------------------|\n",
    "| Jupyter Notebook            |\n",
    "| RStudio                     |\n",
    "| Apache Zeppelin             |"
   ]
  },
  {
   "cell_type": "markdown",
   "id": "c1db6c5f-910e-424c-ac93-63808a7aa6f9",
   "metadata": {},
   "source": [
    "### Below are a few examples of evaluating arithmetic expressions in Python."
   ]
  },
  {
   "cell_type": "code",
   "execution_count": 6,
   "id": "fc2fe728-2fec-4c22-814c-0c020f49ed6e",
   "metadata": {
    "tags": []
   },
   "outputs": [
    {
     "data": {
      "text/plain": [
       "17"
      ]
     },
     "execution_count": 6,
     "metadata": {},
     "output_type": "execute_result"
    }
   ],
   "source": [
    "# This a simple arithmetic expression to mutiply then add integers\n",
    "(3*4)+5"
   ]
  },
  {
   "cell_type": "code",
   "execution_count": 7,
   "id": "879e99c4-9e16-4332-ad2a-c0cd06520928",
   "metadata": {
    "tags": []
   },
   "outputs": [
    {
     "data": {
      "text/plain": [
       "3.3333333333333335"
      ]
     },
     "execution_count": 7,
     "metadata": {},
     "output_type": "execute_result"
    }
   ],
   "source": [
    "# This will convert 200 minutes to hours by diving by 60\n",
    "200 / 60"
   ]
  },
  {
   "cell_type": "markdown",
   "id": "d26ebcc9-6e82-4398-81e0-c85a7d3b7d46",
   "metadata": {},
   "source": [
    "**Objectives:**\n",
    "* List popular languages for Data Science.\n",
    "* Using code and markdown cells.\n",
    "* List popular libraries used by Data Science.\n",
    "* Using markdown elements."
   ]
  },
  {
   "cell_type": "markdown",
   "id": "572fb033-00df-46ef-8854-bdbde4a7a576",
   "metadata": {},
   "source": [
    "## Author\n",
    "Ángel Ángel Cabrera"
   ]
  },
  {
   "cell_type": "markdown",
   "id": "44cd61ea-6259-4f01-a493-cf34020a98d6",
   "metadata": {},
   "source": [
    "[angel2cabrera.com](https://angel2cabrera.com)"
   ]
  },
  {
   "cell_type": "code",
   "execution_count": null,
   "id": "904add00-041b-41b3-ad38-97f89ebf9681",
   "metadata": {},
   "outputs": [],
   "source": []
  }
 ],
 "metadata": {
  "kernelspec": {
   "display_name": "Python",
   "language": "python",
   "name": "conda-env-python-py"
  },
  "language_info": {
   "codemirror_mode": {
    "name": "ipython",
    "version": 3
   },
   "file_extension": ".py",
   "mimetype": "text/x-python",
   "name": "python",
   "nbconvert_exporter": "python",
   "pygments_lexer": "ipython3",
   "version": "3.7.12"
  }
 },
 "nbformat": 4,
 "nbformat_minor": 5
}
